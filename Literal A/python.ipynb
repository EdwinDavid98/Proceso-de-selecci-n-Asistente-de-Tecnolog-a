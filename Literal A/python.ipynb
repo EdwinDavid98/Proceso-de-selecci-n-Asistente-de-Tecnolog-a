{
 "cells": [
  {
   "cell_type": "code",
   "execution_count": 1,
   "id": "70d1d3b9",
   "metadata": {},
   "outputs": [],
   "source": [
    "import pandas as pd"
   ]
  },
  {
   "cell_type": "code",
   "execution_count": 5,
   "id": "91d58123",
   "metadata": {},
   "outputs": [],
   "source": [
    "# leer archivo CSV\n",
    "df = pd.read_csv('ventas.csv')"
   ]
  },
  {
   "cell_type": "code",
   "execution_count": 6,
   "id": "6b361379",
   "metadata": {},
   "outputs": [
    {
     "name": "stdout",
     "output_type": "stream",
     "text": [
      "   nvoice_id entity   country  issue_date currency  net_amount  tax_amount\n",
      "0          1   E001   ECUADOR  2024-05-03      USD        1000         120\n",
      "1          2   E002  COLOMBIA  2024-05-04      COP     2500000      475000\n",
      "2          3   E003      PERU  2024-05-05      PEN        3500         630\n",
      "3          4   E001   ECUADOR  2024-05-06      USD         800          96\n"
     ]
    }
   ],
   "source": [
    "# verificar las primeras filas del DataFrame\n",
    "print(df.head())"
   ]
  },
  {
   "cell_type": "code",
   "execution_count": null,
   "id": "5c21fa25",
   "metadata": {},
   "outputs": [
    {
     "name": "stdout",
     "output_type": "stream",
     "text": [
      "Limpieza de datos...\n"
     ]
    },
    {
     "data": {
      "text/html": [
       "<div>\n",
       "<style scoped>\n",
       "    .dataframe tbody tr th:only-of-type {\n",
       "        vertical-align: middle;\n",
       "    }\n",
       "\n",
       "    .dataframe tbody tr th {\n",
       "        vertical-align: top;\n",
       "    }\n",
       "\n",
       "    .dataframe thead th {\n",
       "        text-align: right;\n",
       "    }\n",
       "</style>\n",
       "<table border=\"1\" class=\"dataframe\">\n",
       "  <thead>\n",
       "    <tr style=\"text-align: right;\">\n",
       "      <th></th>\n",
       "      <th>nvoice_id</th>\n",
       "      <th>entity</th>\n",
       "      <th>country</th>\n",
       "      <th>issue_date</th>\n",
       "      <th>currency</th>\n",
       "      <th>net_amount</th>\n",
       "      <th>tax_amount</th>\n",
       "    </tr>\n",
       "  </thead>\n",
       "  <tbody>\n",
       "    <tr>\n",
       "      <th>0</th>\n",
       "      <td>1</td>\n",
       "      <td>E001</td>\n",
       "      <td>ECUADOR</td>\n",
       "      <td>2024-05-03</td>\n",
       "      <td>USD</td>\n",
       "      <td>1000</td>\n",
       "      <td>120</td>\n",
       "    </tr>\n",
       "    <tr>\n",
       "      <th>1</th>\n",
       "      <td>2</td>\n",
       "      <td>E002</td>\n",
       "      <td>COLOMBIA</td>\n",
       "      <td>2024-05-04</td>\n",
       "      <td>COP</td>\n",
       "      <td>2500000</td>\n",
       "      <td>475000</td>\n",
       "    </tr>\n",
       "    <tr>\n",
       "      <th>2</th>\n",
       "      <td>3</td>\n",
       "      <td>E003</td>\n",
       "      <td>PERU</td>\n",
       "      <td>2024-05-05</td>\n",
       "      <td>PEN</td>\n",
       "      <td>3500</td>\n",
       "      <td>630</td>\n",
       "    </tr>\n",
       "    <tr>\n",
       "      <th>3</th>\n",
       "      <td>4</td>\n",
       "      <td>E001</td>\n",
       "      <td>ECUADOR</td>\n",
       "      <td>2024-05-06</td>\n",
       "      <td>USD</td>\n",
       "      <td>800</td>\n",
       "      <td>96</td>\n",
       "    </tr>\n",
       "  </tbody>\n",
       "</table>\n",
       "</div>"
      ],
      "text/plain": [
       "   nvoice_id entity   country  issue_date currency  net_amount  tax_amount\n",
       "0          1   E001   ECUADOR  2024-05-03      USD        1000         120\n",
       "1          2   E002  COLOMBIA  2024-05-04      COP     2500000      475000\n",
       "2          3   E003      PERU  2024-05-05      PEN        3500         630\n",
       "3          4   E001   ECUADOR  2024-05-06      USD         800          96"
      ]
     },
     "execution_count": 9,
     "metadata": {},
     "output_type": "execute_result"
    }
   ],
   "source": [
    "#(1) CLEAN: limpieza y estandarización \n",
    "print(\"Limpieza de datos...\")\n",
    "df.columns = df.columns.str.strip().str.lower()  # estandarizar nombres\n",
    "df['country'] = df['country'].str.strip().str.upper()  # mayúsculas\n",
    "df['currency'] = df['currency'].str.strip().str.upper()\n",
    "\n",
    "df.head()"
   ]
  },
  {
   "cell_type": "code",
   "execution_count": null,
   "id": "564e9c0c",
   "metadata": {},
   "outputs": [
    {
     "name": "stdout",
     "output_type": "stream",
     "text": [
      "Convirtiendo montos a USD...\n"
     ]
    },
    {
     "data": {
      "text/html": [
       "<div>\n",
       "<style scoped>\n",
       "    .dataframe tbody tr th:only-of-type {\n",
       "        vertical-align: middle;\n",
       "    }\n",
       "\n",
       "    .dataframe tbody tr th {\n",
       "        vertical-align: top;\n",
       "    }\n",
       "\n",
       "    .dataframe thead th {\n",
       "        text-align: right;\n",
       "    }\n",
       "</style>\n",
       "<table border=\"1\" class=\"dataframe\">\n",
       "  <thead>\n",
       "    <tr style=\"text-align: right;\">\n",
       "      <th></th>\n",
       "      <th>nvoice_id</th>\n",
       "      <th>entity</th>\n",
       "      <th>country</th>\n",
       "      <th>issue_date</th>\n",
       "      <th>currency</th>\n",
       "      <th>net_amount</th>\n",
       "      <th>tax_amount</th>\n",
       "      <th>net_usd</th>\n",
       "      <th>tax_usd</th>\n",
       "      <th>total_usd</th>\n",
       "    </tr>\n",
       "  </thead>\n",
       "  <tbody>\n",
       "    <tr>\n",
       "      <th>0</th>\n",
       "      <td>1</td>\n",
       "      <td>E001</td>\n",
       "      <td>ECUADOR</td>\n",
       "      <td>2024-05-03</td>\n",
       "      <td>USD</td>\n",
       "      <td>1000</td>\n",
       "      <td>120</td>\n",
       "      <td>1000.0</td>\n",
       "      <td>120.0</td>\n",
       "      <td>1120.0</td>\n",
       "    </tr>\n",
       "    <tr>\n",
       "      <th>1</th>\n",
       "      <td>2</td>\n",
       "      <td>E002</td>\n",
       "      <td>COLOMBIA</td>\n",
       "      <td>2024-05-04</td>\n",
       "      <td>COP</td>\n",
       "      <td>2500000</td>\n",
       "      <td>475000</td>\n",
       "      <td>650.0</td>\n",
       "      <td>123.5</td>\n",
       "      <td>773.5</td>\n",
       "    </tr>\n",
       "    <tr>\n",
       "      <th>2</th>\n",
       "      <td>3</td>\n",
       "      <td>E003</td>\n",
       "      <td>PERU</td>\n",
       "      <td>2024-05-05</td>\n",
       "      <td>PEN</td>\n",
       "      <td>3500</td>\n",
       "      <td>630</td>\n",
       "      <td>945.0</td>\n",
       "      <td>170.1</td>\n",
       "      <td>1115.1</td>\n",
       "    </tr>\n",
       "    <tr>\n",
       "      <th>3</th>\n",
       "      <td>4</td>\n",
       "      <td>E001</td>\n",
       "      <td>ECUADOR</td>\n",
       "      <td>2024-05-06</td>\n",
       "      <td>USD</td>\n",
       "      <td>800</td>\n",
       "      <td>96</td>\n",
       "      <td>800.0</td>\n",
       "      <td>96.0</td>\n",
       "      <td>896.0</td>\n",
       "    </tr>\n",
       "  </tbody>\n",
       "</table>\n",
       "</div>"
      ],
      "text/plain": [
       "   nvoice_id entity   country  issue_date currency  net_amount  tax_amount  \\\n",
       "0          1   E001   ECUADOR  2024-05-03      USD        1000         120   \n",
       "1          2   E002  COLOMBIA  2024-05-04      COP     2500000      475000   \n",
       "2          3   E003      PERU  2024-05-05      PEN        3500         630   \n",
       "3          4   E001   ECUADOR  2024-05-06      USD         800          96   \n",
       "\n",
       "   net_usd  tax_usd  total_usd  \n",
       "0   1000.0    120.0     1120.0  \n",
       "1    650.0    123.5      773.5  \n",
       "2    945.0    170.1     1115.1  \n",
       "3    800.0     96.0      896.0  "
      ]
     },
     "execution_count": 10,
     "metadata": {},
     "output_type": "execute_result"
    }
   ],
   "source": [
    "# (2) TRANSFORM: conversión a USD \n",
    "fx_to_usd = {\"USD\":1.0, \"COP\":0.00026, \"PEN\":0.27}\n",
    "\n",
    "print(\"Convirtiendo montos a USD...\")\n",
    "df['net_usd'] = df.apply(lambda x: x['net_amount'] * fx_to_usd.get(x['currency'], 1), axis=1)\n",
    "df['tax_usd'] = df.apply(lambda x: x['tax_amount'] * fx_to_usd.get(x['currency'], 1), axis=1)\n",
    "df['total_usd'] = df['net_usd'] + df['tax_usd']\n",
    "\n",
    "df.head()"
   ]
  },
  {
   "cell_type": "code",
   "execution_count": null,
   "id": "6635d1c9",
   "metadata": {},
   "outputs": [
    {
     "name": "stdout",
     "output_type": "stream",
     "text": [
      "Agregando totales por país...\n",
      "    country  net_usd  tax_usd  total_usd\n",
      "0  COLOMBIA    650.0    123.5      773.5\n",
      "1   ECUADOR   1800.0    216.0     2016.0\n",
      "2      PERU    945.0    170.1     1115.1\n"
     ]
    }
   ],
   "source": [
    "# (3) LOAD: Agregar por país \n",
    "print(\"Agregando totales por país...\")\n",
    "resumen = df.groupby('country')[['net_usd', 'tax_usd', 'total_usd']].sum().reset_index()\n",
    "print(resumen)\n"
   ]
  },
  {
   "cell_type": "code",
   "execution_count": null,
   "id": "77b56396",
   "metadata": {},
   "outputs": [
    {
     "name": "stdout",
     "output_type": "stream",
     "text": [
      "Archivo 'resumen_pais.csv' generado exitosamente.\n"
     ]
    }
   ],
   "source": [
    "# (4) Exportar resultado a CSV\n",
    "resumen.to_csv(\"resumen_pais.csv\", index=False)\n",
    "print(\"Archivo 'resumen_pais.csv' generado exitosamente.\")"
   ]
  },
  {
   "cell_type": "code",
   "execution_count": null,
   "id": "f0a12a0c",
   "metadata": {},
   "outputs": [
    {
     "name": "stdout",
     "output_type": "stream",
     "text": [
      "\n",
      "============== LOG DEL PROCESO ============\n",
      "Registros procesados: 4\n",
      "Países incluidos: COLOMBIA, ECUADOR, PERU\n",
      "Totales por país:\n",
      "==========================================\n",
      "    country  net_usd  tax_usd  total_usd\n",
      "0  COLOMBIA    650.0    123.5      773.5\n",
      "1   ECUADOR   1800.0    216.0     2016.0\n",
      "2      PERU    945.0    170.1     1115.1\n",
      "==========================================\n"
     ]
    }
   ],
   "source": [
    "# (5) LOG del proceso\n",
    "print(\"\\n============== LOG DEL PROCESO ============\")\n",
    "print(f\"Registros procesados: {len(df)}\")\n",
    "print(\"Países incluidos:\", \", \".join(resumen['country']))\n",
    "print(\"Totales por país:\")\n",
    "print(\"==========================================\")\n",
    "print(resumen)\n",
    "print(\"==========================================\")"
   ]
  }
 ],
 "metadata": {
  "kernelspec": {
   "display_name": "Python 3",
   "language": "python",
   "name": "python3"
  },
  "language_info": {
   "codemirror_mode": {
    "name": "ipython",
    "version": 3
   },
   "file_extension": ".py",
   "mimetype": "text/x-python",
   "name": "python",
   "nbconvert_exporter": "python",
   "pygments_lexer": "ipython3",
   "version": "3.11.9"
  }
 },
 "nbformat": 4,
 "nbformat_minor": 5
}
