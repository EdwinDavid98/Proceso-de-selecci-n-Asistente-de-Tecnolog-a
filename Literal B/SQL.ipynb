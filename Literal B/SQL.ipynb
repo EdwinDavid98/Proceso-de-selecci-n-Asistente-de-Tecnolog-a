{
 "cells": [
  {
   "cell_type": "code",
   "execution_count": 2,
   "id": "1013a4eb",
   "metadata": {},
   "outputs": [],
   "source": [
    "import sqlite3\n",
    "import pandas as pd\n",
    "\n",
    "# Conexión (usa ':memory:' si no quieres archivo)\n",
    "conn = sqlite3.connect(\"database_main.db\")\n",
    "cursor = conn.cursor()\n",
    "conn.close()"
   ]
  },
  {
   "cell_type": "code",
   "execution_count": 3,
   "id": "d02be33c",
   "metadata": {},
   "outputs": [],
   "source": [
    "conn = sqlite3.connect(\"database_main.db\")\n",
    "cursor = conn.cursor()\n",
    "\n",
    "# Crear tabla DimPais\n",
    "cursor.execute(\"\"\"\n",
    "                CREATE TABLE IF NOT EXISTS DimPais (\n",
    "                PaisCode VARCHAR(10) PRIMARY KEY,\n",
    "                PaisNombre VARCHAR(100)\n",
    "                )\n",
    "                \"\"\")\n",
    "conn.commit()\n",
    "conn.close()"
   ]
  },
  {
   "cell_type": "code",
   "execution_count": 4,
   "id": "964b6750",
   "metadata": {},
   "outputs": [],
   "source": [
    "conn = sqlite3.connect(\"database_main.db\")\n",
    "cursor = conn.cursor()\n",
    "\n",
    "# Crear tabla DimPais\n",
    "cursor.execute(\"\"\"\n",
    "                INSERT INTO DimPais VALUES \n",
    "                ('EC','Ecuador'),\n",
    "                ('CO','Colombia'),\n",
    "                ('PE','Peru')\n",
    "                \"\"\")\n",
    "conn.commit()\n",
    "conn.close()"
   ]
  },
  {
   "cell_type": "code",
   "execution_count": 5,
   "id": "a267fdab",
   "metadata": {},
   "outputs": [],
   "source": [
    "conn = sqlite3.connect(\"database_main.db\")\n",
    "cursor = conn.cursor()\n",
    "\n",
    "# Crear tabla DimPais\n",
    "cursor.execute(\"\"\"\n",
    "               CREATE TABLE Ventas (\n",
    "               FactID INT IDENTITY PRIMARY KEY,\n",
    "               PaisCode VARCHAR(10) NOT NULL,\n",
    "               Fecha DATE NOT NULL,\n",
    "               NetUSD DECIMAL(18,2) NOT NULL,\n",
    "               TaxUSD DECIMAL(18,2) NOT NULL,\n",
    "               FOREIGN KEY (PaisCode) REFERENCES DimPais(PaisCode)\n",
    ")\n",
    "                \"\"\")\n",
    "conn.commit()\n",
    "conn.close()"
   ]
  },
  {
   "cell_type": "code",
   "execution_count": 6,
   "id": "6e13c6d3",
   "metadata": {},
   "outputs": [],
   "source": [
    "conn = sqlite3.connect(\"database_main.db\")\n",
    "cursor = conn.cursor()\n",
    "\n",
    "# Crear tabla DimPais\n",
    "cursor.execute(\"\"\"\n",
    "              INSERT INTO Ventas (PaisCode, Fecha, NetUSD, TaxUSD) VALUES\n",
    "                ('EC','2024-05-01',1000,120),\n",
    "                ('CO','2024-05-02',650,123.5),\n",
    "                ('PE','2024-05-03',800,144),\n",
    "                ('EC','2024-05-10',900,108)\n",
    "                \"\"\")\n",
    "conn.commit()\n",
    "conn.close()"
   ]
  },
  {
   "cell_type": "code",
   "execution_count": 8,
   "id": "e70b4402",
   "metadata": {},
   "outputs": [
    {
     "name": "stdout",
     "output_type": "stream",
     "text": [
      "Totales por país:\n",
      "  PaisNombre  TotalNetUSD  TotalTaxUSD  TotalUSD\n",
      "0   Colombia          650        123.5     773.5\n",
      "1    Ecuador         1900        228.0    2128.0\n",
      "2       Peru          800        144.0     944.0\n"
     ]
    }
   ],
   "source": [
    "conn = sqlite3.connect(\"database_main.db\")\n",
    "query1 = \"\"\"\n",
    "    SELECT \n",
    "    p.PaisNombre,\n",
    "    SUM(v.NetUSD) AS TotalNetUSD,\n",
    "    SUM(v.TaxUSD) AS TotalTaxUSD,\n",
    "    SUM(v.NetUSD + v.TaxUSD) AS TotalUSD\n",
    "    FROM Ventas v\n",
    "    JOIN DimPais p ON v.PaisCode = p.PaisCode\n",
    "    GROUP BY p.PaisNombre;\n",
    "\"\"\"\n",
    "df1 = pd.read_sql_query(query1, conn)\n",
    "print(\"Totales por país:\")\n",
    "print(df1)"
   ]
  },
  {
   "cell_type": "code",
   "execution_count": 9,
   "id": "86c0a31c",
   "metadata": {},
   "outputs": [
    {
     "name": "stdout",
     "output_type": "stream",
     "text": [
      "\n",
      "Totales mes a mes:\n",
      "  PaisNombre  Periodo  NetUSD_Mes  TaxUSD_Mes\n",
      "0   Colombia  2024-05         650       123.5\n",
      "1    Ecuador  2024-05        1900       228.0\n",
      "2       Peru  2024-05         800       144.0\n"
     ]
    }
   ],
   "source": [
    "conn = sqlite3.connect(\"database_main.db\")\n",
    "query2 = \"\"\"\n",
    "    SELECT \n",
    "    p.PaisNombre,\n",
    "    STRFTIME('%Y-%m', v.Fecha) AS Periodo,\n",
    "    SUM(v.NetUSD) AS NetUSD_Mes,\n",
    "    SUM(v.TaxUSD) AS TaxUSD_Mes\n",
    "    FROM Ventas v\n",
    "    JOIN DimPais p ON v.PaisCode = p.PaisCode\n",
    "    GROUP BY p.PaisNombre, STRFTIME('%Y-%m', v.Fecha)\n",
    "    ORDER BY p.PaisNombre, Periodo;\n",
    "\"\"\"\n",
    "df2 = pd.read_sql_query(query2, conn)\n",
    "print(\"\\nTotales mes a mes:\")\n",
    "print(df2)"
   ]
  },
  {
   "cell_type": "code",
   "execution_count": 10,
   "id": "62f6713e",
   "metadata": {},
   "outputs": [
    {
     "name": "stdout",
     "output_type": "stream",
     "text": [
      "\n",
      "Ratio Tax/Net por país:\n",
      "  PaisNombre  Ratio_Tax_Net\n",
      "0   Colombia           0.19\n",
      "1    Ecuador           0.00\n",
      "2       Peru           0.00\n"
     ]
    }
   ],
   "source": [
    "conn = sqlite3.connect(\"database_main.db\")\n",
    "query3 = \"\"\"\n",
    "    SELECT \n",
    "    p.PaisNombre,\n",
    "    ROUND(SUM(v.TaxUSD) / NULLIF(SUM(v.NetUSD), 0), 4) AS Ratio_Tax_Net\n",
    "    FROM Ventas v\n",
    "    JOIN DimPais p ON v.PaisCode = p.PaisCode\n",
    "    GROUP BY p.PaisNombre;\n",
    "\"\"\"\n",
    "df3 = pd.read_sql_query(query3, conn)\n",
    "print(\"\\nRatio Tax/Net por país:\")\n",
    "print(df3)"
   ]
  },
  {
   "cell_type": "code",
   "execution_count": 11,
   "id": "b6260f3d",
   "metadata": {},
   "outputs": [
    {
     "name": "stdout",
     "output_type": "stream",
     "text": [
      "\n",
      "✅ Índice creado en columna Fecha.\n"
     ]
    }
   ],
   "source": [
    "\n",
    "conn = sqlite3.connect(\"database_main.db\")\n",
    "cursor = conn.cursor()\n",
    "cursor.execute(\"CREATE INDEX IF NOT EXISTS idx_fecha_ventas ON Ventas(Fecha);\")\n",
    "print(\"\\n✅ Índice creado en columna Fecha.\")\n",
    "conn.commit()\n",
    "conn.close()"
   ]
  }
 ],
 "metadata": {
  "kernelspec": {
   "display_name": "Python 3",
   "language": "python",
   "name": "python3"
  },
  "language_info": {
   "codemirror_mode": {
    "name": "ipython",
    "version": 3
   },
   "file_extension": ".py",
   "mimetype": "text/x-python",
   "name": "python",
   "nbconvert_exporter": "python",
   "pygments_lexer": "ipython3",
   "version": "3.11.9"
  }
 },
 "nbformat": 4,
 "nbformat_minor": 5
}
